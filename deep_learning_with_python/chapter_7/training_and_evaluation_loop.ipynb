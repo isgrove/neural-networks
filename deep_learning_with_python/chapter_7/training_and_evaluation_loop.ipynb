{
 "cells": [
  {
   "cell_type": "code",
   "execution_count": 24,
   "metadata": {},
   "outputs": [],
   "source": [
    "from tensorflow import keras\n",
    "from tensorflow.keras import layers\n",
    "from tensorflow.keras.datasets import mnist\n",
    "\n",
    "import tensorflow as tf\n",
    "\n",
    "def get_mnist_model():\n",
    "    inputs = keras.Input(shape=(28 * 28,))\n",
    "    features = layers.Dense(512, activation=\"relu\")(inputs) \n",
    "    features = layers.Dropout(0.5)(features)\n",
    "    outputs = layers.Dense(10, activation=\"softmax\")(features)\n",
    "    model = keras.Model(inputs, outputs)\n",
    "    return model\n",
    "\n",
    "(images, labels), (test_images, test_labels) = mnist.load_data()\n",
    "images = images.reshape((60_000, 28 * 28)).astype(\"float32\") / 32\n",
    "test_images = test_images.reshape((10_000, 28 * 28)).astype(\"float32\") / 32\n",
    "train_images, val_images = images[10_000:], images[:10_000]\n",
    "train_labels, val_labels = labels[10_000:], labels[:10_000]"
   ]
  },
  {
   "cell_type": "code",
   "execution_count": 40,
   "metadata": {},
   "outputs": [
    {
     "name": "stderr",
     "output_type": "stream",
     "text": [
      "WARNING:absl:At this time, the v2.11+ optimizer `tf.keras.optimizers.RMSprop` runs slowly on M1/M2 Macs, please use the legacy Keras optimizer instead, located at `tf.keras.optimizers.legacy.RMSprop`.\n"
     ]
    }
   ],
   "source": [
    "# Listing 7.21 - Writing a step-by-step training loop: the training step function\n",
    "\n",
    "model = get_mnist_model()\n",
    "\n",
    "loss_fn = keras.losses.SparseCategoricalCrossentropy()\n",
    "optimizer = keras.optimizers.RMSprop()\n",
    "metrics = [keras.metrics.SparseCategoricalAccuracy()]\n",
    "loss_tracking_metric = keras.metrics.Mean()\n",
    "\n",
    "@tf.function\n",
    "def training_step(inputs, targets):\n",
    "  with tf.GradientTape() as tape:\n",
    "    predictions = model(inputs, training=True)\n",
    "    loss = loss_fn(targets, predictions)\n",
    "  gradients = tape.gradient(loss, model.trainable_weights)\n",
    "  optimizer.apply_gradients(zip(gradients, model.trainable_weights))\n",
    "  logs = {}\n",
    "  for metric in metrics:\n",
    "    metric.update_state(targets, predictions)\n",
    "    logs[metric.name] = metric.result()\n",
    "\n",
    "  loss_tracking_metric.update_state(loss)\n",
    "  logs[\"loss\"] = loss_tracking_metric.result()\n",
    "  return logs\n"
   ]
  },
  {
   "cell_type": "code",
   "execution_count": 41,
   "metadata": {},
   "outputs": [],
   "source": [
    "# Listing 7.22 - Writing a step-by-step training loop: resetting the metrics\n",
    "\n",
    "def reset_metrics():\n",
    "  for metric in metrics:\n",
    "    metric.reset_state()\n",
    "  loss_tracking_metric.reset_state()"
   ]
  },
  {
   "cell_type": "code",
   "execution_count": 42,
   "metadata": {},
   "outputs": [
    {
     "name": "stdout",
     "output_type": "stream",
     "text": [
      "Results at the end of epoch 0\n",
      "...sparse_categorical_accuracy: 0.9023\n",
      "...loss: 0.3947\n",
      "Results at the end of epoch 1\n",
      "...sparse_categorical_accuracy: 0.9466\n",
      "...loss: 0.2323\n",
      "Results at the end of epoch 2\n",
      "...sparse_categorical_accuracy: 0.9555\n",
      "...loss: 0.2064\n"
     ]
    }
   ],
   "source": [
    "# Listing 7.23 - Writing a step-by-step training loop: the loop itself\n",
    "\n",
    "training_dataset = tf.data.Dataset.from_tensor_slices(\n",
    "  (train_images, train_labels))\n",
    "training_dataset = training_dataset.batch(32)\n",
    "epochs = 3\n",
    "\n",
    "for epoch in range(epochs):\n",
    "  reset_metrics()\n",
    "  for inputs_batch, targets_batch in training_dataset:\n",
    "    logs = training_step(inputs_batch, targets_batch)\n",
    "  print(f\"Results at the end of epoch {epoch}\")\n",
    "  for key, value in logs.items():\n",
    "    print(f\"...{key}: {value:.4f}\")"
   ]
  },
  {
   "cell_type": "code",
   "execution_count": 43,
   "metadata": {},
   "outputs": [
    {
     "name": "stdout",
     "output_type": "stream",
     "text": [
      "Evaluation results:\n",
      "...val_sparse_categorical_accuracy: 0.9684\n",
      "...val_loss: 0.1708\n"
     ]
    }
   ],
   "source": [
    "# Listing 7.24 - Writing a step-by-step evaluation loop\n",
    "# Listing 7.25 - Adding a `@tf.function` decorator to our evaluation-step function\n",
    "\n",
    "@tf.function\n",
    "def test_step(inputs, targets):\n",
    "  predictions = model(inputs, training=False)\n",
    "  loss = loss_fn(targets, predictions)\n",
    "\n",
    "  logs = {}\n",
    "  for metric in metrics:\n",
    "    metric.update_state(targets, predictions)\n",
    "    logs[\"val_\" + metric.name] = metric.result()\n",
    "  \n",
    "  loss_tracking_metric.update_state(loss)\n",
    "  logs[\"val_loss\"] = loss_tracking_metric.result()\n",
    "  return logs\n",
    "\n",
    "\n",
    "val_dataset = tf.data.Dataset.from_tensor_slices((val_images, val_labels))\n",
    "val_dataset = val_dataset.batch(32)\n",
    "reset_metrics()\n",
    "\n",
    "for inputs_batch, targets_batch in val_dataset:\n",
    "  logs = test_step(inputs_batch, targets_batch)\n",
    "print(\"Evaluation results:\")\n",
    "for key, value in logs.items():\n",
    "  print(f\"...{key}: {value:.4f}\")"
   ]
  },
  {
   "cell_type": "code",
   "execution_count": 57,
   "metadata": {},
   "outputs": [],
   "source": [
    "# Listing 7.26 - Implementing a custom training step to use with `fit()`\n",
    "\n",
    "loss_fn = keras.losses.SparseCategoricalCrossentropy()\n",
    "loss_tracker = keras.metrics.Mean(name=\"loss\")\n",
    "\n",
    "class CustomModel(keras.Model):\n",
    "  # We overide the train_step method\n",
    "  def train_step(self, data):\n",
    "    inputs, targets = data\n",
    "    with tf.GradientTape() as tape:\n",
    "      predictions = self(inputs, training=True)\n",
    "      loss = self.compiled_loss(targets, predictions) # Compute the loss viae self.compiled_loss\n",
    "    gradients = tape.gradient(loss, self.trainable_weights)\n",
    "    self.optimizer.apply_gradients(zip(gradients, self.trainable_weights))\n",
    "    self.compiled_metrics.update_state(targets, predictions) # Update the model's metrics via self.compiled_metrics\n",
    "    return {m.name: m.result() for m in self.metrics} # Return a dict mapping metric names to their current value."
   ]
  },
  {
   "cell_type": "code",
   "execution_count": 58,
   "metadata": {},
   "outputs": [
    {
     "name": "stderr",
     "output_type": "stream",
     "text": [
      "WARNING:absl:At this time, the v2.11+ optimizer `tf.keras.optimizers.RMSprop` runs slowly on M1/M2 Macs, please use the legacy Keras optimizer instead, located at `tf.keras.optimizers.legacy.RMSprop`.\n"
     ]
    },
    {
     "name": "stdout",
     "output_type": "stream",
     "text": [
      "Epoch 1/3\n",
      "1563/1563 [==============================] - 4s 2ms/step - loss: 0.4034 - sparse_categorical_accuracy: 0.8996\n",
      "Epoch 2/3\n",
      "1563/1563 [==============================] - 3s 2ms/step - loss: 0.2351 - sparse_categorical_accuracy: 0.9450\n",
      "Epoch 3/3\n",
      "1563/1563 [==============================] - 3s 2ms/step - loss: 0.2108 - sparse_categorical_accuracy: 0.9549\n"
     ]
    },
    {
     "data": {
      "text/plain": [
       "<keras.src.callbacks.History at 0x3ab414a30>"
      ]
     },
     "execution_count": 58,
     "metadata": {},
     "output_type": "execute_result"
    }
   ],
   "source": [
    "inputs = keras.Input(shape=(28 * 28))\n",
    "features = layers.Dense(512, activation=\"relu\")(inputs)\n",
    "features = layers.Dropout(0.5)(features)\n",
    "outputs = layers.Dense(10, activation=\"softmax\")(features)\n",
    "model = CustomModel(inputs, outputs)\n",
    "\n",
    "model.compile(optimizer=keras.optimizers.RMSprop(),\n",
    "              loss=keras.losses.SparseCategoricalCrossentropy(),\n",
    "              metrics=[keras.metrics.SparseCategoricalAccuracy()])\n",
    "model.fit(train_images, train_labels, epochs=3)"
   ]
  },
  {
   "cell_type": "code",
   "execution_count": null,
   "metadata": {},
   "outputs": [],
   "source": []
  }
 ],
 "metadata": {
  "kernelspec": {
   "display_name": "base",
   "language": "python",
   "name": "python3"
  },
  "language_info": {
   "codemirror_mode": {
    "name": "ipython",
    "version": 3
   },
   "file_extension": ".py",
   "mimetype": "text/x-python",
   "name": "python",
   "nbconvert_exporter": "python",
   "pygments_lexer": "ipython3",
   "version": "3.9.12"
  }
 },
 "nbformat": 4,
 "nbformat_minor": 2
}
