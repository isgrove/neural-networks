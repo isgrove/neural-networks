{
 "cells": [
  {
   "cell_type": "code",
   "execution_count": 1,
   "id": "4ed6c3a8-dc13-4ca0-a2cc-30b95db60da9",
   "metadata": {},
   "outputs": [
    {
     "name": "stdout",
     "output_type": "stream",
     "text": [
      "Epoch 1/3\n",
      "1563/1563 [==============================] - 4s 2ms/step - loss: 0.4060 - accuracy: 0.8997 - val_loss: 0.1868 - val_accuracy: 0.9590\n",
      "Epoch 2/3\n",
      "1563/1563 [==============================] - 3s 2ms/step - loss: 0.2594 - accuracy: 0.9448 - val_loss: 0.1617 - val_accuracy: 0.9645\n",
      "Epoch 3/3\n",
      "1563/1563 [==============================] - 3s 2ms/step - loss: 0.2225 - accuracy: 0.9548 - val_loss: 0.1864 - val_accuracy: 0.9690\n",
      "313/313 [==============================] - 0s 685us/step - loss: 0.1648 - accuracy: 0.9709\n",
      "313/313 [==============================] - 0s 547us/step\n"
     ]
    }
   ],
   "source": [
    "# Listing 7.17 - The standard workflow using `compile()`, `fit()`, `evaluate()`, `predict()`\n",
    "from tensorflow import keras\n",
    "from tensorflow.keras import layers\n",
    "from tensorflow.keras.datasets import mnist\n",
    "\n",
    "def get_mnist_model():\n",
    "    inputs = keras.Input(shape=(28 * 28,))\n",
    "    features = layers.Dense(512, activation=\"relu\")(inputs) \n",
    "    features = layers.Dropout(0.5)(features)\n",
    "    outputs = layers.Dense(10, activation=\"softmax\")(features)\n",
    "    model = keras.Model(inputs, outputs)\n",
    "    return model\n",
    "\n",
    "(images, labels), (test_images, test_labels) = mnist.load_data()\n",
    "images = images.reshape((60_000, 28 * 28)).astype(\"float32\") / 32\n",
    "test_images = test_images.reshape((10_000, 28 * 28)).astype(\"float32\") / 32\n",
    "train_images, val_images = images[10_000:], images[:10_000]\n",
    "train_labels, val_labels = labels[10_000:], labels[:10_000]\n",
    "\n",
    "model = get_mnist_model()\n",
    "model.compile(optimizer=\"rmsprop\",\n",
    "              loss=\"sparse_categorical_crossentropy\",\n",
    "              metrics=[\"accuracy\"])\n",
    "model.fit(train_images, train_labels,\n",
    "          epochs=3,\n",
    "          validation_data=(val_images, val_labels))\n",
    "test_metrics = model.evaluate(test_images, test_labels)\n",
    "predictions = model.predict(test_images)"
   ]
  },
  {
   "cell_type": "code",
   "execution_count": 2,
   "id": "d848db95-4716-4553-8765-9f904988a89b",
   "metadata": {},
   "outputs": [],
   "source": [
    "# Listing 7.18 - Implementing a custom metric by subclassing the `Metric` class\n",
    "import tensorflow as tf\n",
    "\n",
    "class RootMeanSquaredError(keras.metrics.Metric):\n",
    "\n",
    "    def __init__(self, name=\"rmse\", **kwargs):\n",
    "        super().__init__(name=name, **kwargs)\n",
    "        self.mse_sum = self.add_weight(name=\"mse_sum\", initializer=\"zeros\")\n",
    "        self.total_samples = self.add_weight(\n",
    "            name=\"total_samples\", initializer=\"zeros\", dtype=\"int32\")\n",
    "\n",
    "    def update_state(self, y_true, y_pred, sample_weight=None):\n",
    "        y_true = tf.one_hot(y_true, depth=tf.shape(y_pred)[1])\n",
    "        mse = tf.reduce_sum(tf.square(y_true - y_pred))\n",
    "        self.mse_sum.assign_add(mse)\n",
    "        num_samples = tf.shape(y_pred)[0]\n",
    "        self.total_samples.assign_add(num_samples)\n",
    "\n",
    "    def result(self):\n",
    "        return tf.sqrt(self.mse_sum / tf.cast(self.total_samples, tf.float32))\n",
    "\n",
    "    def reset_state(self):\n",
    "        self.mse_sum.assign(0.)\n",
    "        self.total_samples.assign(0)"
   ]
  },
  {
   "cell_type": "code",
   "execution_count": 3,
   "id": "d74876d0-edca-4013-a96d-eecbc5b26414",
   "metadata": {},
   "outputs": [
    {
     "name": "stdout",
     "output_type": "stream",
     "text": [
      "Epoch 1/3\n",
      "1563/1563 [==============================] - 4s 2ms/step - loss: 0.4110 - accuracy: 0.8992 - rmse: 7.3119 - val_loss: 0.1854 - val_accuracy: 0.9585 - val_rmse: 7.4219\n",
      "Epoch 2/3\n",
      "1563/1563 [==============================] - 3s 2ms/step - loss: 0.2537 - accuracy: 0.9460 - rmse: 7.4002 - val_loss: 0.1660 - val_accuracy: 0.9661 - val_rmse: 7.4328\n",
      "Epoch 3/3\n",
      "1563/1563 [==============================] - 3s 2ms/step - loss: 0.2267 - accuracy: 0.9551 - rmse: 7.4188 - val_loss: 0.1679 - val_accuracy: 0.9708 - val_rmse: 7.4509\n",
      "313/313 [==============================] - 0s 643us/step - loss: 0.1619 - accuracy: 0.9718 - rmse: 7.4591\n",
      "313/313 [==============================] - 0s 554us/step\n"
     ]
    }
   ],
   "source": [
    "# using the custom metric\n",
    "model = get_mnist_model()\n",
    "model.compile(optimizer=\"rmsprop\",\n",
    "              loss=\"sparse_categorical_crossentropy\",\n",
    "              metrics=[\"accuracy\", RootMeanSquaredError()])\n",
    "model.fit(train_images, train_labels,\n",
    "          epochs=3,\n",
    "          validation_data=(val_images, val_labels))\n",
    "test_metrics = model.evaluate(test_images, test_labels)\n",
    "predictions = model.predict(test_images)"
   ]
  }
 ],
 "metadata": {
  "kernelspec": {
   "display_name": "Python 3 (ipykernel)",
   "language": "python",
   "name": "python3"
  },
  "language_info": {
   "codemirror_mode": {
    "name": "ipython",
    "version": 3
   },
   "file_extension": ".py",
   "mimetype": "text/x-python",
   "name": "python",
   "nbconvert_exporter": "python",
   "pygments_lexer": "ipython3",
   "version": "3.9.12"
  }
 },
 "nbformat": 4,
 "nbformat_minor": 5
}
