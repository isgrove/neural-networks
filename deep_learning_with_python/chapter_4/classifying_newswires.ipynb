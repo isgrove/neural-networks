{
 "cells": [
  {
   "cell_type": "code",
   "execution_count": 3,
   "metadata": {},
   "outputs": [],
   "source": [
    "# 4.11 Loading the Reuters dataset\n",
    "from tensorflow.keras.datasets import reuters\n",
    "(train_data, train_labels), (test_data, test_labels) = reuters.load_data(\n",
    "  num_words=10000)"
   ]
  },
  {
   "cell_type": "code",
   "execution_count": 4,
   "metadata": {},
   "outputs": [
    {
     "data": {
      "text/plain": [
       "'? ? ? said as a result of its december acquisition of space co it expects earnings per share in 1987 of 1 15 to 1 30 dlrs per share up from 70 cts in 1986 the company said pretax net should rise to nine to 10 mln dlrs from six mln dlrs in 1986 and rental operation revenues to 19 to 22 mln dlrs from 12 5 mln dlrs it said cash flow per share this year should be 2 50 to three dlrs reuter 3'"
      ]
     },
     "execution_count": 4,
     "metadata": {},
     "output_type": "execute_result"
    }
   ],
   "source": [
    "# 4.12 Decoding newswires back to text\n",
    "word_index = reuters.get_word_index()\n",
    "reverse_word_index = dict(\n",
    "  [(value, key) for (key, value) in word_index.items()])\n",
    "decoded_newswire = \" \".join(\n",
    "  [reverse_word_index.get(i - 3, \"?\") for i in train_data[0]])\n",
    "decoded_newswire"
   ]
  },
  {
   "cell_type": "code",
   "execution_count": 5,
   "metadata": {},
   "outputs": [],
   "source": [
    "import numpy as np\n",
    "\n",
    "def vectorize_sequences(sequences, dimension=10000):\n",
    "  results = np.zeros((len(sequences), dimension))\n",
    "  for i, sequence in enumerate(sequences):\n",
    "    for j in sequence:\n",
    "      results[i, j] = 1\n",
    "  return results"
   ]
  },
  {
   "cell_type": "code",
   "execution_count": 6,
   "metadata": {},
   "outputs": [],
   "source": [
    "# 4.13 Encoding the input data\n",
    "x_train = vectorize_sequences(train_data)\n",
    "x_test = vectorize_sequences(test_data)"
   ]
  },
  {
   "cell_type": "code",
   "execution_count": 7,
   "metadata": {},
   "outputs": [],
   "source": [
    "# 4.14 Encoding the labels\n",
    "def to_one_hot(labels, dimension=46):\n",
    "  results = np.zeros((len(labels), dimension))\n",
    "  for i, label in enumerate(labels):\n",
    "    results[i, label] = 1\n",
    "  return results\n",
    "\n",
    "y_train = to_one_hot(train_labels)\n",
    "y_test = to_one_hot(test_labels)"
   ]
  },
  {
   "cell_type": "code",
   "execution_count": 8,
   "metadata": {},
   "outputs": [],
   "source": [
    "# from tensorflow.keras.utils import to_categorical\n",
    "\n",
    "# y_train = to_categorical(train_labels)\n",
    "# y_test = to_categorical(test_labels)"
   ]
  },
  {
   "cell_type": "code",
   "execution_count": null,
   "metadata": {},
   "outputs": [],
   "source": [
    "from tensorflow import keras\n",
    "from tensorflow.keras import layers"
   ]
  },
  {
   "cell_type": "code",
   "execution_count": 23,
   "metadata": {},
   "outputs": [],
   "source": [
    "# 4.15 Model definition\n",
    "model = keras.Sequential([\n",
    "  layers.Dense(64, activation=\"relu\"),\n",
    "  layers.Dense(64, activation=\"relu\"),\n",
    "  layers.Dense(46, activation=\"softmax\")\n",
    "])"
   ]
  },
  {
   "cell_type": "code",
   "execution_count": 24,
   "metadata": {},
   "outputs": [],
   "source": [
    "# 4.16 Compiling the model\n",
    "model.compile(optimizer=\"rmsprop\",\n",
    "              loss=\"categorical_crossentropy\",\n",
    "              metrics=[\"accuracy\"])"
   ]
  },
  {
   "cell_type": "code",
   "execution_count": 11,
   "metadata": {},
   "outputs": [],
   "source": [
    "x_val = x_train[:1000]\n",
    "partial_x_train = x_train[1000:]\n",
    "y_val = y_train[:1000]\n",
    "partial_y_train = y_train[1000:]"
   ]
  },
  {
   "cell_type": "code",
   "execution_count": 25,
   "metadata": {},
   "outputs": [
    {
     "name": "stdout",
     "output_type": "stream",
     "text": [
      "Epoch 1/20\n",
      "16/16 [==============================] - 0s 14ms/step - loss: 2.5450 - accuracy: 0.5421 - val_loss: 1.6839 - val_accuracy: 0.6430\n",
      "Epoch 2/20\n",
      "16/16 [==============================] - 0s 8ms/step - loss: 1.3859 - accuracy: 0.7107 - val_loss: 1.2887 - val_accuracy: 0.7110\n",
      "Epoch 3/20\n",
      "16/16 [==============================] - 0s 8ms/step - loss: 1.0205 - accuracy: 0.7840 - val_loss: 1.1199 - val_accuracy: 0.7560\n",
      "Epoch 4/20\n",
      "16/16 [==============================] - 0s 8ms/step - loss: 0.7985 - accuracy: 0.8300 - val_loss: 1.0105 - val_accuracy: 0.7860\n",
      "Epoch 5/20\n",
      "16/16 [==============================] - 0s 8ms/step - loss: 0.6337 - accuracy: 0.8666 - val_loss: 0.9656 - val_accuracy: 0.8100\n",
      "Epoch 6/20\n",
      "16/16 [==============================] - 0s 8ms/step - loss: 0.5058 - accuracy: 0.8950 - val_loss: 0.9293 - val_accuracy: 0.8070\n",
      "Epoch 7/20\n",
      "16/16 [==============================] - 0s 8ms/step - loss: 0.4064 - accuracy: 0.9153 - val_loss: 0.9021 - val_accuracy: 0.8140\n",
      "Epoch 8/20\n",
      "16/16 [==============================] - 0s 9ms/step - loss: 0.3326 - accuracy: 0.9297 - val_loss: 0.9095 - val_accuracy: 0.8070\n",
      "Epoch 9/20\n",
      "16/16 [==============================] - 0s 9ms/step - loss: 0.2789 - accuracy: 0.9389 - val_loss: 0.8957 - val_accuracy: 0.8210\n",
      "Epoch 10/20\n",
      "16/16 [==============================] - 0s 9ms/step - loss: 0.2311 - accuracy: 0.9470 - val_loss: 0.9531 - val_accuracy: 0.8050\n",
      "Epoch 11/20\n",
      "16/16 [==============================] - 0s 8ms/step - loss: 0.2014 - accuracy: 0.9484 - val_loss: 0.9190 - val_accuracy: 0.8170\n",
      "Epoch 12/20\n",
      "16/16 [==============================] - 0s 8ms/step - loss: 0.1810 - accuracy: 0.9515 - val_loss: 0.9224 - val_accuracy: 0.8220\n",
      "Epoch 13/20\n",
      "16/16 [==============================] - 0s 9ms/step - loss: 0.1599 - accuracy: 0.9525 - val_loss: 0.9694 - val_accuracy: 0.8100\n",
      "Epoch 14/20\n",
      "16/16 [==============================] - 0s 8ms/step - loss: 0.1458 - accuracy: 0.9558 - val_loss: 0.9761 - val_accuracy: 0.8210\n",
      "Epoch 15/20\n",
      "16/16 [==============================] - 0s 9ms/step - loss: 0.1348 - accuracy: 0.9567 - val_loss: 0.9900 - val_accuracy: 0.8200\n",
      "Epoch 16/20\n",
      "16/16 [==============================] - 0s 8ms/step - loss: 0.1306 - accuracy: 0.9568 - val_loss: 1.0367 - val_accuracy: 0.8060\n",
      "Epoch 17/20\n",
      "16/16 [==============================] - 0s 8ms/step - loss: 0.1263 - accuracy: 0.9554 - val_loss: 1.0488 - val_accuracy: 0.8010\n",
      "Epoch 18/20\n",
      "16/16 [==============================] - 0s 8ms/step - loss: 0.1178 - accuracy: 0.9563 - val_loss: 1.0651 - val_accuracy: 0.8040\n",
      "Epoch 19/20\n",
      "16/16 [==============================] - 0s 9ms/step - loss: 0.1125 - accuracy: 0.9590 - val_loss: 1.1134 - val_accuracy: 0.7980\n",
      "Epoch 20/20\n",
      "16/16 [==============================] - 0s 9ms/step - loss: 0.1097 - accuracy: 0.9585 - val_loss: 1.0977 - val_accuracy: 0.7980\n"
     ]
    }
   ],
   "source": [
    "# 4.18 Training the model\n",
    "history = model.fit(partial_x_train,\n",
    "                    partial_y_train,\n",
    "                    epochs=20,\n",
    "                    batch_size=512,\n",
    "                    validation_data=(x_val, y_val))"
   ]
  },
  {
   "cell_type": "code",
   "execution_count": null,
   "metadata": {},
   "outputs": [],
   "source": [
    "import matplotlib.pyplot as plt"
   ]
  },
  {
   "cell_type": "code",
   "execution_count": 13,
   "metadata": {},
   "outputs": [
    {
     "data": {
      "image/png": "[encoded data removed]",
      "text/plain": [
       "<Figure size 640x480 with 1 Axes>"
      ]
     },
     "metadata": {},
     "output_type": "display_data"
    }
   ],
   "source": [
    "# 4.19 Plotting the training and validation loss\n",
    "history_dict = history.history\n",
    "loss = history_dict[\"loss\"]\n",
    "val_loss = history_dict[\"val_loss\"]\n",
    "epochs = range(1, len(loss) + 1)\n",
    "\n",
    "plt.plot(epochs, loss, \"bo\", label=\"Training loss\") # \"bo\" is for \"blue dot\"\n",
    "plt.plot(epochs, val_loss, \"b\", label=\"Validation loss\") # \"b\" is for \"solid blue line\"\n",
    "plt.title(\"Training and validation loss\")\n",
    "plt.xlabel(\"Epochs\")\n",
    "plt.ylabel(\"Loss\")\n",
    "plt.legend()\n",
    "plt.show()"
   ]
  },
  {
   "cell_type": "code",
   "execution_count": 14,
   "metadata": {},
   "outputs": [
    {
     "data": {
      "image/png": "[encoded data removed]",
      "text/plain": [
       "<Figure size 640x480 with 1 Axes>"
      ]
     },
     "metadata": {},
     "output_type": "display_data"
    }
   ],
   "source": [
    "# 4.20 Plotting the training and validation accuracy\n",
    "plt.clf() # clears the figure\n",
    "acc = history_dict[\"accuracy\"]\n",
    "val_acc = history_dict[\"val_accuracy\"]\n",
    "plt.plot(epochs, acc, \"bo\", label=\"Training acc\")\n",
    "plt.plot(epochs, val_acc, \"b\", label=\"Validation acc\")\n",
    "plt.title(\"Training and validation accuracy\")\n",
    "plt.xlabel(\"Epochs\")\n",
    "plt.ylabel(\"Accuracy\")\n",
    "plt.legend()\n",
    "plt.show()"
   ]
  },
  {
   "cell_type": "code",
   "execution_count": 15,
   "metadata": {},
   "outputs": [
    {
     "name": "stdout",
     "output_type": "stream",
     "text": [
      "Epoch 1/9\n",
      "18/18 [==============================] - 0s 7ms/step - loss: 2.5628 - accuracy: 0.5209\n",
      "Epoch 2/9\n",
      "18/18 [==============================] - 0s 7ms/step - loss: 1.3657 - accuracy: 0.7196\n",
      "Epoch 3/9\n",
      "18/18 [==============================] - 0s 7ms/step - loss: 1.0050 - accuracy: 0.7858\n",
      "Epoch 4/9\n",
      "18/18 [==============================] - 0s 7ms/step - loss: 0.7856 - accuracy: 0.8327\n",
      "Epoch 5/9\n",
      "18/18 [==============================] - 0s 7ms/step - loss: 0.6173 - accuracy: 0.8713\n",
      "Epoch 6/9\n",
      "18/18 [==============================] - 0s 7ms/step - loss: 0.4907 - accuracy: 0.8977\n",
      "Epoch 7/9\n",
      "18/18 [==============================] - 0s 7ms/step - loss: 0.3950 - accuracy: 0.9159\n",
      "Epoch 8/9\n",
      "18/18 [==============================] - 0s 7ms/step - loss: 0.3201 - accuracy: 0.9305\n",
      "Epoch 9/9\n",
      "18/18 [==============================] - 0s 7ms/step - loss: 0.2714 - accuracy: 0.9382\n",
      "71/71 [==============================] - 0s 667us/step - loss: 0.9454 - accuracy: 0.7952\n"
     ]
    }
   ],
   "source": [
    "# 4.21 Retraining a model from scract\n",
    "model = keras.Sequential([\n",
    "  layers.Dense(64, activation=\"relu\"),\n",
    "  layers.Dense(64, activation=\"relu\"),\n",
    "  layers.Dense(46, activation=\"softmax\")\n",
    "])\n",
    "\n",
    "model.compile(optimizer=\"rmsprop\",\n",
    "              loss=\"categorical_crossentropy\",\n",
    "              metrics=[\"accuracy\"])\n",
    "\n",
    "model.fit(x_train,\n",
    "          y_train,\n",
    "          epochs=9,\n",
    "          batch_size=512)\n",
    "\n",
    "results = model.evaluate(x_test, y_test)"
   ]
  },
  {
   "cell_type": "code",
   "execution_count": 16,
   "metadata": {},
   "outputs": [
    {
     "data": {
      "text/plain": [
       "[0.9454121589660645, 0.7951914668083191]"
      ]
     },
     "execution_count": 16,
     "metadata": {},
     "output_type": "execute_result"
    }
   ],
   "source": [
    "results"
   ]
  },
  {
   "cell_type": "code",
   "execution_count": 17,
   "metadata": {},
   "outputs": [
    {
     "data": {
      "text/plain": [
       "0.18655387355298308"
      ]
     },
     "execution_count": 17,
     "metadata": {},
     "output_type": "execute_result"
    }
   ],
   "source": [
    "# Check the accuracy of a random baseline\n",
    "import copy\n",
    "\n",
    "test_labels_copy = copy.copy(test_labels)\n",
    "np.random.shuffle(test_labels_copy)\n",
    "hits_array = np.array(test_labels) == np.array(test_labels_copy)\n",
    "hits_array.mean()"
   ]
  },
  {
   "cell_type": "code",
   "execution_count": 18,
   "metadata": {},
   "outputs": [
    {
     "name": "stdout",
     "output_type": "stream",
     "text": [
      "71/71 [==============================] - 0s 656us/step\n"
     ]
    }
   ],
   "source": [
    "predictions = model.predict(x_test)"
   ]
  },
  {
   "cell_type": "code",
   "execution_count": 19,
   "metadata": {},
   "outputs": [
    {
     "data": {
      "text/plain": [
       "(46,)"
      ]
     },
     "execution_count": 19,
     "metadata": {},
     "output_type": "execute_result"
    }
   ],
   "source": [
    "predictions[0].shape"
   ]
  },
  {
   "cell_type": "code",
   "execution_count": 20,
   "metadata": {},
   "outputs": [
    {
     "data": {
      "text/plain": [
       "0.99999994"
      ]
     },
     "execution_count": 20,
     "metadata": {},
     "output_type": "execute_result"
    }
   ],
   "source": [
    "np.sum(predictions[0])"
   ]
  },
  {
   "cell_type": "code",
   "execution_count": 21,
   "metadata": {},
   "outputs": [
    {
     "data": {
      "text/plain": [
       "3"
      ]
     },
     "execution_count": 21,
     "metadata": {},
     "output_type": "execute_result"
    }
   ],
   "source": [
    "np.argmax(predictions[0])"
   ]
  },
  {
   "cell_type": "code",
   "execution_count": 22,
   "metadata": {},
   "outputs": [
    {
     "name": "stdout",
     "output_type": "stream",
     "text": [
      "Epoch 1/20\n",
      "16/16 [==============================] - 0s 14ms/step - loss: 3.4007 - accuracy: 0.3049 - val_loss: 2.9554 - val_accuracy: 0.3480\n",
      "Epoch 2/20\n",
      "16/16 [==============================] - 0s 8ms/step - loss: 2.6361 - accuracy: 0.3666 - val_loss: 2.3891 - val_accuracy: 0.4490\n",
      "Epoch 3/20\n",
      "16/16 [==============================] - 0s 8ms/step - loss: 2.1111 - accuracy: 0.5454 - val_loss: 1.9937 - val_accuracy: 0.5770\n",
      "Epoch 4/20\n",
      "16/16 [==============================] - 0s 8ms/step - loss: 1.7551 - accuracy: 0.6021 - val_loss: 1.7566 - val_accuracy: 0.5830\n",
      "Epoch 5/20\n",
      "16/16 [==============================] - 0s 8ms/step - loss: 1.5282 - accuracy: 0.6195 - val_loss: 1.6351 - val_accuracy: 0.5880\n",
      "Epoch 6/20\n",
      "16/16 [==============================] - 0s 8ms/step - loss: 1.3823 - accuracy: 0.6462 - val_loss: 1.5338 - val_accuracy: 0.6220\n",
      "Epoch 7/20\n",
      "16/16 [==============================] - 0s 8ms/step - loss: 1.2718 - accuracy: 0.6678 - val_loss: 1.4745 - val_accuracy: 0.6380\n",
      "Epoch 8/20\n",
      "16/16 [==============================] - 0s 8ms/step - loss: 1.1785 - accuracy: 0.6818 - val_loss: 1.4418 - val_accuracy: 0.6490\n",
      "Epoch 9/20\n",
      "16/16 [==============================] - 0s 8ms/step - loss: 1.0958 - accuracy: 0.7253 - val_loss: 1.3989 - val_accuracy: 0.6790\n",
      "Epoch 10/20\n",
      "16/16 [==============================] - 0s 8ms/step - loss: 1.0249 - accuracy: 0.7486 - val_loss: 1.3847 - val_accuracy: 0.6830\n",
      "Epoch 11/20\n",
      "16/16 [==============================] - 0s 8ms/step - loss: 0.9668 - accuracy: 0.7572 - val_loss: 1.3659 - val_accuracy: 0.6930\n",
      "Epoch 12/20\n",
      "16/16 [==============================] - 0s 9ms/step - loss: 0.9129 - accuracy: 0.7663 - val_loss: 1.3613 - val_accuracy: 0.6960\n",
      "Epoch 13/20\n",
      "16/16 [==============================] - 0s 8ms/step - loss: 0.8695 - accuracy: 0.7694 - val_loss: 1.3472 - val_accuracy: 0.7010\n",
      "Epoch 14/20\n",
      "16/16 [==============================] - 0s 8ms/step - loss: 0.8273 - accuracy: 0.7715 - val_loss: 1.3538 - val_accuracy: 0.6970\n",
      "Epoch 15/20\n",
      "16/16 [==============================] - 0s 8ms/step - loss: 0.7928 - accuracy: 0.7745 - val_loss: 1.3560 - val_accuracy: 0.6940\n",
      "Epoch 16/20\n",
      "16/16 [==============================] - 0s 8ms/step - loss: 0.7603 - accuracy: 0.7747 - val_loss: 1.3765 - val_accuracy: 0.6920\n",
      "Epoch 17/20\n",
      "16/16 [==============================] - 0s 8ms/step - loss: 0.7281 - accuracy: 0.7793 - val_loss: 1.3783 - val_accuracy: 0.6920\n",
      "Epoch 18/20\n",
      "16/16 [==============================] - 0s 8ms/step - loss: 0.6979 - accuracy: 0.7859 - val_loss: 1.3788 - val_accuracy: 0.6930\n",
      "Epoch 19/20\n",
      "16/16 [==============================] - 0s 8ms/step - loss: 0.6709 - accuracy: 0.7930 - val_loss: 1.4134 - val_accuracy: 0.6930\n",
      "Epoch 20/20\n",
      "16/16 [==============================] - 0s 9ms/step - loss: 0.6439 - accuracy: 0.7984 - val_loss: 1.4368 - val_accuracy: 0.6930\n"
     ]
    },
    {
     "data": {
      "text/plain": [
       "<keras.src.callbacks.History at 0x29e172850>"
      ]
     },
     "execution_count": 22,
     "metadata": {},
     "output_type": "execute_result"
    }
   ],
   "source": [
    "# 4.22 A model with an information bottleneck\n",
    "model = keras.Sequential([\n",
    "  layers.Dense(64, activation=\"relu\"),\n",
    "  layers.Dense(4, activation=\"relu\"),\n",
    "  layers.Dense(46, activation=\"softmax\")\n",
    "])\n",
    "\n",
    "model.compile(optimizer=\"rmsprop\",\n",
    "              loss=\"categorical_crossentropy\",\n",
    "              metrics=[\"accuracy\"])\n",
    "\n",
    "model.fit(partial_x_train,\n",
    "          partial_y_train,\n",
    "          epochs=20,\n",
    "          batch_size=512,\n",
    "          validation_data=(x_val, y_val))\n"
   ]
  },
  {
   "cell_type": "code",
   "execution_count": null,
   "metadata": {},
   "outputs": [],
   "source": []
  }
 ],
 "metadata": {
  "kernelspec": {
   "display_name": "base",
   "language": "python",
   "name": "python3"
  },
  "language_info": {
   "codemirror_mode": {
    "name": "ipython",
    "version": 3
   },
   "file_extension": ".py",
   "mimetype": "text/x-python",
   "name": "python",
   "nbconvert_exporter": "python",
   "pygments_lexer": "ipython3",
   "version": "3.9.12"
  }
 },
 "nbformat": 4,
 "nbformat_minor": 2
}
