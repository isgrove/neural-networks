{
 "cells": [
  {
   "cell_type": "code",
   "execution_count": 18,
   "id": "90991a25-bfda-4c44-a250-01abef494e3b",
   "metadata": {},
   "outputs": [
    {
     "name": "stdout",
     "output_type": "stream",
     "text": [
      "tf.Tensor(2.0, shape=(), dtype=float32)\n",
      "tf.Tensor(5.0, shape=(), dtype=float32)\n"
     ]
    }
   ],
   "source": [
    "import tensorflow as tf\n",
    "\n",
    "x = tf.Variable(0.0) # instantiate a scalar Variable with an initial value of 0.\n",
    "with tf.GradientTape() as tape: # Open a GradientTape scope\n",
    "    y = 2 * x + 3 # Inside the scope, apply some tensor operations to our variable\n",
    "grad_of_y_wrt_x = tape.gradient(y, x) # Use the tape to retrieve the gradient of the output y with respect to our variable x.\n",
    "print(grad_of_y_wrt_x)\n",
    "print(y)"
   ]
  },
  {
   "cell_type": "code",
   "execution_count": 14,
   "id": "d47a0d50-b570-4252-91db-197677223930",
   "metadata": {},
   "outputs": [
    {
     "name": "stdout",
     "output_type": "stream",
     "text": [
      "tf.Tensor(\n",
      "[[2. 2.]\n",
      " [2. 2.]], shape=(2, 2), dtype=float32)\n"
     ]
    }
   ],
   "source": [
    "x = tf.Variable(tf.random.uniform((2, 2))) # Instantiate a Variable with shape (2, 2) and an initial value of all zeros.\n",
    "with tf.GradientTape() as tape:\n",
    "    y = 2 * x + 3\n",
    "grad_of_y_wrt_x = tape.gradient(y, x) # grad_of_y_wrt_x is a tensor shape (2, 2) (like x) describing the curvature of y = 2 * a around x\n",
    "print(grad_of_y_wrt_x)"
   ]
  },
  {
   "cell_type": "code",
   "execution_count": 20,
   "id": "87b76100-8669-4b6e-b2fd-f4ff1877667a",
   "metadata": {},
   "outputs": [
    {
     "name": "stdout",
     "output_type": "stream",
     "text": [
      "[<tf.Tensor: shape=(2, 2), dtype=float32, numpy=\n",
      "array([[1.2192291, 1.2192291],\n",
      "       [1.2551122, 1.2551122]], dtype=float32)>, <tf.Tensor: shape=(2,), dtype=float32, numpy=array([2., 2.], dtype=float32)>]\n"
     ]
    }
   ],
   "source": [
    "W = tf.Variable(tf.random.uniform((2, 2)))\n",
    "b = tf.Variable(tf.zeros((2,)))\n",
    "x = tf.random.uniform((2, 2))\n",
    "with tf.GradientTape() as tape:\n",
    "    y = tf.matmul(x, W) + b # matmul is a \"dot product\" in tf\n",
    "\n",
    "grad_of_y_wrt_W_and_b = tape.gradient(y, [W, b]) # list of 2 tensors with the same shapes as W and b\n",
    "print(grad_of_y_wrt_W_and_b)"
   ]
  },
  {
   "cell_type": "code",
   "execution_count": null,
   "id": "c1078ba9-9031-4acd-8aab-a7e9c9d2a1d3",
   "metadata": {},
   "outputs": [],
   "source": []
  }
 ],
 "metadata": {
  "kernelspec": {
   "display_name": "Python 3 (ipykernel)",
   "language": "python",
   "name": "python3"
  },
  "language_info": {
   "codemirror_mode": {
    "name": "ipython",
    "version": 3
   },
   "file_extension": ".py",
   "mimetype": "text/x-python",
   "name": "python",
   "nbconvert_exporter": "python",
   "pygments_lexer": "ipython3",
   "version": "3.9.12"
  }
 },
 "nbformat": 4,
 "nbformat_minor": 5
}
