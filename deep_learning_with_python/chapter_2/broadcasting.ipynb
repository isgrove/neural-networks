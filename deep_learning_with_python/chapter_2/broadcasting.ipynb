{
 "cells": [
  {
   "cell_type": "code",
   "execution_count": 1,
   "id": "b9323b81-05e2-403a-9700-89607e0edade",
   "metadata": {},
   "outputs": [],
   "source": [
    "import numpy as np"
   ]
  },
  {
   "cell_type": "code",
   "execution_count": 2,
   "id": "9fa371e6-a9c2-4add-bf6a-e7993771e25e",
   "metadata": {},
   "outputs": [],
   "source": [
    "# Example of manually resizing the tensors (without brodcasting)\n",
    "x = np.random.random((32, 10))\n",
    "y = np.random.random((10,))\n",
    "\n",
    "# first, we add an empty first axis to y, whose shape becomes (1,10)\n",
    "y = np.expand_dims(y, axis=0) # the shape of y is now (1,10)\n",
    "\n",
    "# then, we repeat y 32 times alongside this new axis, so that we end up with a tensor y with shape (32, 10),\n",
    "# where Y[i, :] == y for i in range(0, 32):\n",
    "Y = np.conctenate([y] * 32, axis=0)\n",
    "\n",
    "# Now we can add X and Y as they now have the same shape."
   ]
  },
  {
   "cell_type": "code",
   "execution_count": 3,
   "id": "ccb7a6f9-5e71-4ffd-a3a0-a1c146149dbe",
   "metadata": {},
   "outputs": [],
   "source": [
    "def naive_add_matrix_and_vector(x, y):\n",
    "    assert len(x.shape) == 2\n",
    "    assert len(y.shape) == 1\n",
    "    assert x.shape[1] == y.shape[0]\n",
    "    x = x.copy()\n",
    "    for i in range(x.shape[0]):\n",
    "        for j in range(x.shape[1]):\n",
    "            x[i, j] += y[j]\n",
    "    return x"
   ]
  },
  {
   "cell_type": "code",
   "execution_count": 8,
   "id": "e2e22973-7cee-4c4c-a9f0-600046e257e0",
   "metadata": {},
   "outputs": [
    {
     "data": {
      "text/plain": [
       "(64, 3, 32, 10)"
      ]
     },
     "execution_count": 8,
     "metadata": {},
     "output_type": "execute_result"
    }
   ],
   "source": [
    "# the following example applies the element-wise maximum operation to\n",
    "# two tensors of different shapes via broadcasting\n",
    "x = np.random.random((64, 3, 32, 10))\n",
    "y = np.random.random((32, 10))\n",
    "z = np.maximum(x, y)\n",
    "z.shape"
   ]
  },
  {
   "cell_type": "code",
   "execution_count": null,
   "id": "56bc3434-f592-4695-bb1a-a1295f781e1c",
   "metadata": {},
   "outputs": [],
   "source": []
  }
 ],
 "metadata": {
  "kernelspec": {
   "display_name": "Python 3 (ipykernel)",
   "language": "python",
   "name": "python3"
  },
  "language_info": {
   "codemirror_mode": {
    "name": "ipython",
    "version": 3
   },
   "file_extension": ".py",
   "mimetype": "text/x-python",
   "name": "python",
   "nbconvert_exporter": "python",
   "pygments_lexer": "ipython3",
   "version": "3.9.12"
  }
 },
 "nbformat": 4,
 "nbformat_minor": 5
}
