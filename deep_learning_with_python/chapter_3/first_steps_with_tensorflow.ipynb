{
 "cells": [
  {
   "cell_type": "code",
   "execution_count": 1,
   "id": "9a20bfce-6e5b-46ff-a692-4260339d8ea2",
   "metadata": {},
   "outputs": [
    {
     "name": "stdout",
     "output_type": "stream",
     "text": [
      "tf.Tensor(\n",
      "[[1.]\n",
      " [1.]], shape=(2, 1), dtype=float32)\n"
     ]
    }
   ],
   "source": [
    "import tensorflow as tf\n",
    "\n",
    "x = tf.ones(shape=(2, 1)) # same as np.ones(shape=(2, 1))\n",
    "print(x)"
   ]
  },
  {
   "cell_type": "code",
   "execution_count": 2,
   "id": "4e59e443-1e1e-4695-bdea-a50556e1e4bd",
   "metadata": {},
   "outputs": [
    {
     "name": "stdout",
     "output_type": "stream",
     "text": [
      "tf.Tensor(\n",
      "[[0.]\n",
      " [0.]], shape=(2, 1), dtype=float32)\n"
     ]
    }
   ],
   "source": [
    "x = tf.zeros(shape=(2, 1)) # same as np.zeros(shape=(2, 1))\n",
    "print(x)"
   ]
  },
  {
   "cell_type": "code",
   "execution_count": 3,
   "id": "00b480de-89e4-49ae-a5c8-7dcbbf34b16d",
   "metadata": {},
   "outputs": [
    {
     "name": "stdout",
     "output_type": "stream",
     "text": [
      "tf.Tensor(\n",
      "[[0.433218]\n",
      " [0.812614]\n",
      " [1.712028]], shape=(3, 1), dtype=float32)\n"
     ]
    }
   ],
   "source": [
    "# Tensor of random values drawn from a normal distrubution with mean 0 and standard deviation 1.\n",
    "x = tf.random.normal(shape=(3, 1), mean=0., stddev=1.0)\n",
    "print(x)"
   ]
  },
  {
   "cell_type": "code",
   "execution_count": 4,
   "id": "a1357653-8209-4f6e-84a9-6214710f1c6b",
   "metadata": {},
   "outputs": [
    {
     "name": "stdout",
     "output_type": "stream",
     "text": [
      "tf.Tensor(\n",
      "[[0.38777494]\n",
      " [0.02667654]\n",
      " [0.5604969 ]], shape=(3, 1), dtype=float32)\n"
     ]
    }
   ],
   "source": [
    "# Tensor of random values drawn from a uniform distrubution between 0 and 1\n",
    "x = tf.random.uniform(shape=(3, 1), minval=0., maxval=1.0)\n",
    "print(x)"
   ]
  },
  {
   "cell_type": "code",
   "execution_count": 5,
   "id": "0c7f486e-ebd0-4c03-a487-0626bccd1a62",
   "metadata": {},
   "outputs": [],
   "source": [
    "# The biggest difference between NumPy arrays and TensorFlow tensors is\n",
    "# that TensorFlow tensors aren't assignable: they're constant.\n",
    "# For instance, in NumPy you can do the following:\n",
    "import numpy as np\n",
    "x = np.ones(shape=(2, 2))\n",
    "x[0, 0] = 0"
   ]
  },
  {
   "cell_type": "code",
   "execution_count": 6,
   "id": "2973b070-3d3b-461d-8686-cfda66f71dba",
   "metadata": {},
   "outputs": [
    {
     "ename": "TypeError",
     "evalue": "'tensorflow.python.framework.ops.EagerTensor' object does not support item assignment",
     "output_type": "error",
     "traceback": [
      "\u001b[0;31m---------------------------------------------------------------------------\u001b[0m",
      "\u001b[0;31mTypeError\u001b[0m                                 Traceback (most recent call last)",
      "Cell \u001b[0;32mIn[6], line 3\u001b[0m\n\u001b[1;32m      1\u001b[0m \u001b[38;5;66;03m# Try to do the same thing in TensorFlow, and you will get an error\u001b[39;00m\n\u001b[1;32m      2\u001b[0m x \u001b[38;5;241m=\u001b[39m tf\u001b[38;5;241m.\u001b[39mones(shape\u001b[38;5;241m=\u001b[39m(\u001b[38;5;241m2\u001b[39m, \u001b[38;5;241m2\u001b[39m))\n\u001b[0;32m----> 3\u001b[0m \u001b[43mx\u001b[49m\u001b[43m[\u001b[49m\u001b[38;5;241;43m0\u001b[39;49m\u001b[43m,\u001b[49m\u001b[43m \u001b[49m\u001b[38;5;241;43m0\u001b[39;49m\u001b[43m]\u001b[49m \u001b[38;5;241m=\u001b[39m \u001b[38;5;241m0\u001b[39m\n",
      "\u001b[0;31mTypeError\u001b[0m: 'tensorflow.python.framework.ops.EagerTensor' object does not support item assignment"
     ]
    }
   ],
   "source": [
    "# Try to do the same thing in TensorFlow, and you will get an error\n",
    "x = tf.ones(shape=(2, 2))\n",
    "x[0, 0] = 0"
   ]
  },
  {
   "cell_type": "code",
   "execution_count": null,
   "id": "c2d91f91-aa77-4d90-9d59-309f6a8b7f89",
   "metadata": {},
   "outputs": [],
   "source": [
    "v = tf.Variable(initial_value=tf.random.normal(shape=(3, 1)))\n",
    "print(v)"
   ]
  },
  {
   "cell_type": "code",
   "execution_count": null,
   "id": "7bbc9556-89f6-4972-bd1c-ccb314204001",
   "metadata": {},
   "outputs": [],
   "source": [
    "# the state can be modified via its `assign` method as follows\n",
    "v.assign(tf.ones((3, 1)))"
   ]
  },
  {
   "cell_type": "code",
   "execution_count": null,
   "id": "d7ffaa60-9321-41fd-8ac8-f19b7de46248",
   "metadata": {},
   "outputs": [],
   "source": [
    "v[0, 0].assign(3.)"
   ]
  },
  {
   "cell_type": "code",
   "execution_count": null,
   "id": "51a7608d-4956-4035-b682-f219a58ecf3e",
   "metadata": {},
   "outputs": [],
   "source": [
    "v.assign_add(tf.ones((3, 1)))"
   ]
  },
  {
   "cell_type": "code",
   "execution_count": null,
   "id": "401aaf47-e485-4772-b2fc-f4906224275e",
   "metadata": {},
   "outputs": [],
   "source": [
    "a = tf.ones((2, 2))\n",
    "b = tf.square(a) # take the square\n",
    "c = tf.sqrt(a) # take the square root\n",
    "d = b + c # Add two tensors\n",
    "e = tf.matmul(a, b) # Take the product of two tensors\n",
    "e *= d # multiply two tensors"
   ]
  },
  {
   "cell_type": "code",
   "execution_count": 9,
   "id": "240d6739-7f08-4c97-addc-bd6d8b2a1de5",
   "metadata": {},
   "outputs": [
    {
     "name": "stdout",
     "output_type": "stream",
     "text": [
      "tf.Tensor(6.0, shape=(), dtype=float32)\n"
     ]
    }
   ],
   "source": [
    "input_var = tf.Variable(initial_value=3.)\n",
    "with tf.GradientTape() as tape:\n",
    "    result = tf.square(input_var)\n",
    "gradient = tape.gradient(result, input_var)\n",
    "print(gradient)"
   ]
  },
  {
   "cell_type": "code",
   "execution_count": 11,
   "id": "2243587e-0f33-4197-820e-38ab6597b18d",
   "metadata": {},
   "outputs": [
    {
     "name": "stdout",
     "output_type": "stream",
     "text": [
      "tf.Tensor(6.0, shape=(), dtype=float32)\n"
     ]
    }
   ],
   "source": [
    "# with non-variables\n",
    "input_const = tf.constant(3.)\n",
    "with tf.GradientTape() as tape:\n",
    "    tape.watch(input_const)\n",
    "    result = tf.square(input_const)\n",
    "gradient = tape.gradient(result, input_const)\n",
    "print(gradient)"
   ]
  },
  {
   "cell_type": "code",
   "execution_count": null,
   "id": "3c9785b3-0ad6-4573-97ad-b2099397aa91",
   "metadata": {},
   "outputs": [],
   "source": []
  }
 ],
 "metadata": {
  "kernelspec": {
   "display_name": "Python 3 (ipykernel)",
   "language": "python",
   "name": "python3"
  },
  "language_info": {
   "codemirror_mode": {
    "name": "ipython",
    "version": 3
   },
   "file_extension": ".py",
   "mimetype": "text/x-python",
   "name": "python",
   "nbconvert_exporter": "python",
   "pygments_lexer": "ipython3",
   "version": "3.9.12"
  }
 },
 "nbformat": 4,
 "nbformat_minor": 5
}
