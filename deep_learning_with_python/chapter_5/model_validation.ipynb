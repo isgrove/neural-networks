{
 "cells": [
  {
   "cell_type": "code",
   "execution_count": null,
   "id": "d3e504eb-c63d-413d-bb14-13bc29e64c49",
   "metadata": {},
   "outputs": [],
   "source": [
    "# 5.5 Holdout validation (note that labels are omitted for simplicity)\n",
    "num_validation_samples = 10,000\n",
    "np.random.shuffle(data)\n",
    "validation_data = data[:num_validation_samples]\n",
    "training_data = data[num_validation_samples:]\n",
    "model = get_model()\n",
    "model.fit(training_data, ...)\n",
    "# Here you can tune your model, retrain it and evaluate it, tune it again\n",
    "model = get_model()\n",
    "# Once you've tuned your hypermaraters, it's common to\n",
    "# train your final model from scratch on all non-test data available\n",
    "model.fit(np.concatenate([training_data,\n",
    "                          validation_data]), ...)\n",
    "test_score = model.evaludate(test_data, ...)"
   ]
  },
  {
   "cell_type": "code",
   "execution_count": null,
   "id": "bcd03414-6bb0-4c84-a751-a5cabaa46960",
   "metadata": {},
   "outputs": [],
   "source": [
    "# 5.6 K-fold cross-validation\n",
    "k = 3\n",
    "num_validation_samples = len(data) // 3\n",
    "np.random.shuffle(data)\n",
    "validation_scores = []\n",
    "for fold in range(k): \n",
    "    validation_data = data[num_validation_samples * fold:\n",
    "                           num_validation_samples * (fold + 1)]\n",
    "    traning_data = np.concatenate(\n",
    "        data[:num_validation_samples * fold],\n",
    "        data[num_validation_samples * (fold + 1):])\n",
    "    model = get_model()\n",
    "    model.fit(training_data, ...)\n",
    "    validation_score = model.evaluate(validation_data, ...)\n",
    "    validation_scores.append(validation_score)\n",
    "validation_score = np.average(validation_scores)\n",
    "model = get_model()\n",
    "model.fit(data, ...)\n",
    "test_score = model.evaluate(test_data, ...)"
   ]
  },
  {
   "cell_type": "code",
   "execution_count": null,
   "id": "b9b23532-a207-4f69-aa90-a13c3a75b3d6",
   "metadata": {},
   "outputs": [],
   "source": [
    "# Is this K-fold validation with shuffling?\n",
    "p = 10\n",
    "k = 3\n",
    "\n",
    "def kfold():\n",
    "    num_validation_samples = len(data) // 3\n",
    "    np.random.shuffle(data)\n",
    "    validation_scores = []\n",
    "    for fold in range(k): \n",
    "        validation_data = data[num_validation_samples * fold:\n",
    "                               num_validation_samples * (fold + 1)]\n",
    "        traning_data = np.concatenate(\n",
    "            data[:num_validation_samples * fold],\n",
    "            data[num_validation_samples * (fold + 1):])\n",
    "        model = get_model()\n",
    "        model.fit(training_data, ...)\n",
    "        validation_score = model.evaluate(validation_data, ...)\n",
    "        validation_scores.append(validation_score)\n",
    "    validation_score = np.average(validation_scores)\n",
    "    model = get_model()\n",
    "    model.fit(data, ...)\n",
    "    return test_score = model.evaluate(test_data, ...)\n",
    "\n",
    "iteration_validation_scores = []\n",
    "for i in range(k):\n",
    "    iteration_validation_score = kfold()\n",
    "    iteration_validation_scores.append(iteration_validation_score)"
   ]
  }
 ],
 "metadata": {
  "kernelspec": {
   "display_name": "Python 3 (ipykernel)",
   "language": "python",
   "name": "python3"
  },
  "language_info": {
   "codemirror_mode": {
    "name": "ipython",
    "version": 3
   },
   "file_extension": ".py",
   "mimetype": "text/x-python",
   "name": "python",
   "nbconvert_exporter": "python",
   "pygments_lexer": "ipython3",
   "version": "3.9.12"
  }
 },
 "nbformat": 4,
 "nbformat_minor": 5
}
