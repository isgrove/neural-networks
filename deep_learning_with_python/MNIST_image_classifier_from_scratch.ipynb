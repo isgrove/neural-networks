{
 "cells": [
  {
   "cell_type": "code",
   "execution_count": 1,
   "id": "551bda4f-b640-466a-816b-02f5e08a1439",
   "metadata": {},
   "outputs": [],
   "source": [
    "import tensorflow as tf\n",
    "import numpy as np\n",
    "import math"
   ]
  },
  {
   "cell_type": "code",
   "execution_count": 2,
   "id": "3500f951-7a03-4ad0-9efc-580a4a58f582",
   "metadata": {},
   "outputs": [],
   "source": [
    "class NaiveDense:\n",
    "    def __init__(self, input_size, output_size, activation):\n",
    "        self.activation = activation\n",
    "\n",
    "        w_shape = (input_size, output_size)\n",
    "        w_initial_value = tf.random.uniform(w_shape, minval=0, maxval=1e-1)\n",
    "        self.W = tf.Variable(w_initial_value)\n",
    "\n",
    "        b_shape = (output_size,)\n",
    "        b_initial_value = tf.zeros(b_shape)\n",
    "        self.b = tf.Variable(b_initial_value)\n",
    "\n",
    "    def __call__(self, inputs):\n",
    "        return self.activation(tf.matmul(inputs, self.W) + self.b)\n",
    "\n",
    "    @property\n",
    "    def weights(self):\n",
    "        return [self.W, self.b]"
   ]
  },
  {
   "cell_type": "code",
   "execution_count": 3,
   "id": "9ece78aa-2aad-4b56-a3e9-ebb3d1b2c009",
   "metadata": {},
   "outputs": [],
   "source": [
    "class NaiveSequential:\n",
    "    def __init__(self, layers):\n",
    "        self.layers = layers\n",
    "\n",
    "    def __call__(self, inputs):\n",
    "        x = inputs\n",
    "        for layer in self.layers:\n",
    "            x = layer(x)\n",
    "        return x\n",
    "\n",
    "    @property\n",
    "    def weights(self):\n",
    "        weights = []\n",
    "        for layer in self.layers:\n",
    "            weights += layer.weights\n",
    "        return weights    "
   ]
  },
  {
   "cell_type": "code",
   "execution_count": 4,
   "id": "526966cd-9c71-4568-a5ac-ec1c2c1a6bcc",
   "metadata": {},
   "outputs": [],
   "source": [
    "class BatchGenerator:\n",
    "    def __init__(self, images, labels, batch_size=128):\n",
    "        assert len(images) == len(labels)\n",
    "        self.index = 0\n",
    "        self.images = images\n",
    "        self.labels = labels\n",
    "        self.batch_size = batch_size\n",
    "        self.num_batches = math.ceil(len(images) / batch_size)\n",
    "\n",
    "    def next(self):\n",
    "        images = self.images[self.index : self.index + self.batch_size]\n",
    "        labels = self.labels[self.index : self.index + self.batch_size]\n",
    "        self.index += self.batch_size\n",
    "        return images, labels"
   ]
  },
  {
   "cell_type": "code",
   "execution_count": 5,
   "id": "39ea37bb-1e4c-47e0-9342-11965d4cf2c0",
   "metadata": {},
   "outputs": [],
   "source": [
    "def one_training_step(model, images_batch, labels_batch):\n",
    "    with tf.GradientTape() as tape:\n",
    "        predictions = model(images_batch)\n",
    "        per_sample_losses = tf.keras.losses.sparse_categorical_crossentropy(\n",
    "            labels_batch, predictions)\n",
    "        average_loss = tf.reduce_mean(per_sample_losses)\n",
    "    gradients = tape.gradient(average_loss, model.weights)\n",
    "    update_weights(gradients, model.weights)\n",
    "    return average_loss"
   ]
  },
  {
   "cell_type": "code",
   "execution_count": 6,
   "id": "a1135bba-cd4b-4bd9-86d2-71030a0d9b18",
   "metadata": {},
   "outputs": [],
   "source": [
    "model = NaiveSequential([\n",
    "    NaiveDense(input_size=28 * 28, output_size=512, activation=tf.nn.relu),\n",
    "    NaiveDense(input_size=512, output_size=10, activation=tf.nn.softmax)\n",
    "])\n",
    "assert len(model.weights) == 4"
   ]
  },
  {
   "cell_type": "code",
   "execution_count": 7,
   "id": "adb38535-f728-4a5d-b410-7de636a72aff",
   "metadata": {},
   "outputs": [],
   "source": [
    "from tensorflow.keras import optimizers\n",
    "\n",
    "optimizer = optimizers.legacy.SGD(learning_rate=1e-3)\n",
    "\n",
    "def update_weights(gradients, weights):\n",
    "    optimizer.apply_gradients(zip(gradients, weights))"
   ]
  },
  {
   "cell_type": "code",
   "execution_count": 8,
   "id": "e415e4ad-a4a7-40ba-8919-356b1d8ade84",
   "metadata": {},
   "outputs": [],
   "source": [
    "def fit(model, images, labels, epochs, batch_size=128):\n",
    "        for epoch_counter in range(epochs):\n",
    "            print(f\"Epoch {epoch_counter}\")\n",
    "            batch_generator = BatchGenerator(images, labels)\n",
    "            for batch_counter in range(batch_generator.num_batches):\n",
    "                images_batch, labels_batch = batch_generator.next()\n",
    "                loss = one_training_step(model, images_batch, labels_batch)\n",
    "                if batch_counter % 100 == 0:\n",
    "                    print(f\"loss at batch {batch_counter}: {loss:2f}\")"
   ]
  },
  {
   "cell_type": "code",
   "execution_count": 9,
   "id": "565f1b6e-f701-4bba-a39d-e1879fe1c3a9",
   "metadata": {},
   "outputs": [
    {
     "name": "stdout",
     "output_type": "stream",
     "text": [
      "Epoch 0\n",
      "loss at batch 0: 5.354414\n",
      "loss at batch 100: 2.246300\n",
      "loss at batch 200: 2.210291\n",
      "loss at batch 300: 2.099311\n",
      "loss at batch 400: 2.276711\n",
      "Epoch 1\n",
      "loss at batch 0: 1.938270\n",
      "loss at batch 100: 1.885931\n",
      "loss at batch 200: 1.830476\n",
      "loss at batch 300: 1.719375\n",
      "loss at batch 400: 1.882617\n",
      "Epoch 2\n",
      "loss at batch 0: 1.613506\n",
      "loss at batch 100: 1.583731\n",
      "loss at batch 200: 1.502794\n",
      "loss at batch 300: 1.429379\n",
      "loss at batch 400: 1.548660\n",
      "Epoch 3\n",
      "loss at batch 0: 1.350116\n",
      "loss at batch 100: 1.341539\n",
      "loss at batch 200: 1.234889\n",
      "loss at batch 300: 1.212563\n",
      "loss at batch 400: 1.301476\n",
      "Epoch 4\n",
      "loss at batch 0: 1.145736\n",
      "loss at batch 100: 1.157960\n",
      "loss at batch 200: 1.038955\n",
      "loss at batch 300: 1.050296\n",
      "loss at batch 400: 1.128117\n",
      "Epoch 5\n",
      "loss at batch 0: 0.995449\n",
      "loss at batch 100: 1.018107\n",
      "loss at batch 200: 0.900117\n",
      "loss at batch 300: 0.929867\n",
      "loss at batch 400: 1.004668\n",
      "Epoch 6\n",
      "loss at batch 0: 0.883534\n",
      "loss at batch 100: 0.910573\n",
      "loss at batch 200: 0.797838\n",
      "loss at batch 300: 0.839103\n",
      "loss at batch 400: 0.914025\n",
      "Epoch 7\n",
      "loss at batch 0: 0.798664\n",
      "loss at batch 100: 0.826289\n",
      "loss at batch 200: 0.719729\n",
      "loss at batch 300: 0.769064\n",
      "loss at batch 400: 0.845326\n",
      "Epoch 8\n",
      "loss at batch 0: 0.732961\n",
      "loss at batch 100: 0.758876\n",
      "loss at batch 200: 0.658476\n",
      "loss at batch 300: 0.713681\n",
      "loss at batch 400: 0.791847\n",
      "Epoch 9\n",
      "loss at batch 0: 0.681013\n",
      "loss at batch 100: 0.703969\n",
      "loss at batch 200: 0.609385\n",
      "loss at batch 300: 0.668896\n",
      "loss at batch 400: 0.749299\n"
     ]
    }
   ],
   "source": [
    "from tensorflow.keras.datasets import mnist\n",
    "(train_images, train_labels), (test_images, test_labels) = mnist.load_data()\n",
    "\n",
    "train_images = train_images.reshape((60000, 28 * 28))\n",
    "train_images = train_images.astype(\"float32\") / 255\n",
    "test_images = test_images.reshape((10000, 28 * 28))\n",
    "test_images = test_images.astype(\"float32\") / 255\n",
    "\n",
    "fit(model, train_images, train_labels, epochs=10, batch_size=128)"
   ]
  },
  {
   "cell_type": "code",
   "execution_count": 10,
   "id": "68a9813d-2c83-4bcc-8dd3-38e220904963",
   "metadata": {},
   "outputs": [
    {
     "name": "stdout",
     "output_type": "stream",
     "text": [
      "acccuracy: 0.81\n"
     ]
    }
   ],
   "source": [
    "predictions = model(test_images)\n",
    "predictions = predictions.numpy()\n",
    "predicted_labels = np.argmax(predictions, axis=1)\n",
    "matches = predicted_labels == test_labels\n",
    "print(f\"acccuracy: {matches.mean():.2f}\")"
   ]
  }
 ],
 "metadata": {
  "kernelspec": {
   "display_name": "Python 3 (ipykernel)",
   "language": "python",
   "name": "python3"
  },
  "language_info": {
   "codemirror_mode": {
    "name": "ipython",
    "version": 3
   },
   "file_extension": ".py",
   "mimetype": "text/x-python",
   "name": "python",
   "nbconvert_exporter": "python",
   "pygments_lexer": "ipython3",
   "version": "3.9.12"
  }
 },
 "nbformat": 4,
 "nbformat_minor": 5
}
